{
 "cells": [
  {
   "cell_type": "code",
   "execution_count": 5,
   "metadata": {},
   "outputs": [],
   "source": [
    "import pandas as pd\n",
    "import numpy as np\n",
    "from sklearn.model_selection import train_test_split\n",
    "df = pd.read_csv('2009.csv')\n",
    "y = df.DEP_DELAY.replace(np.nan, 0)\n",
    "X = df[[\"OP_CARRIER\",\"OP_CARRIER_FL_NUM\",\"ORIGIN\",\"DEST\",\"CRS_DEP_TIME\",\"DEP_TIME\",\"TAXI_OUT\",\"WHEELS_OFF\",\"WHEELS_ON\",\"TAXI_IN\",\"CRS_ARR_TIME\",\"ARR_TIME\",\"ARR_DELAY\"]].replace(np.nan, 0)"
   ]
  },
  {
   "cell_type": "code",
   "execution_count": 6,
   "metadata": {},
   "outputs": [],
   "source": [
    "def convert_to_int(df, col):\n",
    "    df[col] = df[col].apply(lambda x: sum(ord(c) for c in x))\n",
    "str_cols = [\"OP_CARRIER\", \"ORIGIN\", \"DEST\"]\n",
    "for col in str_cols: \n",
    "  convert_to_int(X, col)\n",
    "X = np.asarray(X).astype(np.float32)\n",
    "X_train, X_test, y_train, y_test = train_test_split(X, y,test_size=0.2)"
   ]
  },
  {
   "cell_type": "code",
   "execution_count": 7,
   "metadata": {},
   "outputs": [
    {
     "name": "stdout",
     "output_type": "stream",
     "text": [
      "(6429338, 13)\n",
      "(6429338,)\n",
      "The mean absolute error across all folds is: 7.124943682833761\n",
      "\n",
      "\n"
     ]
    }
   ],
   "source": [
    "from sklearn.linear_model import LinearRegression\n",
    "from sklearn.model_selection import KFold\n",
    "from sklearn.metrics import mean_absolute_error as mae\n",
    "def predictFlights(record_data, delay_times):\n",
    "    print(record_data.shape)\n",
    "    print(delay_times.shape)\n",
    "    # define features and outcome variable\n",
    "    # initialize k folds\n",
    "    cv = KFold(n_splits=5, shuffle=True)\n",
    "    actual_results = []\n",
    "    prediction_results = []\n",
    "\n",
    "    model = LinearRegression()\n",
    "    # perform cross validation\n",
    "    for train_index, test_index in cv.split(record_data):\n",
    "        # fit the model on the training data\n",
    "        model.fit(X_train, y_train)\n",
    "        # base predictions on the testing data \n",
    "        predictions = model.predict(X_test)\n",
    "        actual = y_test.values.tolist()\n",
    "        # append the prediction results and actual results to a list for analysis after the cross validation\n",
    "        prediction_results.append(predictions.tolist())\n",
    "        actual_results.append(actual)\n",
    "\n",
    "    actual_results = sum(actual_results, [])\n",
    "    prediction_results = sum(prediction_results, [])\n",
    "    error = mae(actual_results, prediction_results)\n",
    "    print(f'The mean absolute error across all folds is: {error}')\n",
    "    print('\\n')\n",
    "    return model\n",
    "model = predictFlights(X, y)"
   ]
  },
  {
   "cell_type": "code",
   "execution_count": 4,
   "metadata": {},
   "outputs": [],
   "source": [
    "import pickle\n",
    "model_file = 'prediction_model.sav'\n",
    "pickle.dump(model, open(model_file, 'wb'))"
   ]
  },
  {
   "cell_type": "code",
   "execution_count": null,
   "metadata": {},
   "outputs": [],
   "source": [
    "entry_1 = X.iloc[0:10][[\"OP_CARRIER\",\"OP_CARRIER_FL_NUM\",\"ORIGIN\",\"DEST\",\"CRS_DEP_TIME\",\"DEP_TIME\",\"TAXI_OUT\",\"WHEELS_OFF\",\"WHEELS_ON\",\"TAXI_IN\",\"CRS_ARR_TIME\",\"ARR_TIME\",\"ARR_DELAY\",\"CANCELLED\",\"CANCELLATION_CODE\",\"DIVERTED\",\"CRS_ELAPSED_TIME\",\"ACTUAL_ELAPSED_TIME\",\"AIR_TIME\",\"DISTANCE\",\"CARRIER_DELAY\",\"WEATHER_DELAY\",\"NAS_DELAY\",\"SECURITY_DELAY\",\"LATE_AIRCRAFT_DELAY\"]].replace(np.nan, 0)\n",
    "model.predict(entry_1)"
   ]
  },
  {
   "cell_type": "code",
   "execution_count": null,
   "metadata": {},
   "outputs": [],
   "source": [
    "from keras.utils import to_categorical\n",
    "import tensorflow as tf\n",
    "from keras.layers import Dropout\n",
    "model = tf.keras.Sequential([tf.keras.layers.Dense(512, input_shape=(25,), activation='relu'),\n",
    "                    tf.keras.layers.Dense(128, activation='relu'),\n",
    "                    tf.keras.layers.Dense(512, activation='relu'),\n",
    "                    tf.keras.layers.Dense(128, activation='relu'),\n",
    "                    tf.keras.layers.Dense(100, activation='relu'),\n",
    "                    tf.keras.layers.Dense(512, activation='relu'),\n",
    "                    tf.keras.layers.Dense(128, activation='relu'),\n",
    "                    tf.keras.layers.Dense(10, activation='softmax')])\n",
    "\n",
    "# Compile model\n",
    "model.compile(optimizer='Adam', loss='mean_squared_error',metrics=['accuracy'],)\n",
    "print(\"Train image shape: \", X_train.shape)\n",
    "print(y_train.shape)\n",
    "\n",
    "print(X_train.shape)\n",
    "# Train model\n",
    "model.summary()\n",
    "model.fit(np.array(X_train), np.array(y_train), epochs=3000, validation_split=0.2)"
   ]
  }
 ],
 "metadata": {
  "kernelspec": {
   "display_name": "Python 3",
   "language": "python",
   "name": "python3"
  },
  "language_info": {
   "codemirror_mode": {
    "name": "ipython",
    "version": 3
   },
   "file_extension": ".py",
   "mimetype": "text/x-python",
   "name": "python",
   "nbconvert_exporter": "python",
   "pygments_lexer": "ipython3",
   "version": "3.10.9"
  },
  "orig_nbformat": 4,
  "vscode": {
   "interpreter": {
    "hash": "b0fa6594d8f4cbf19f97940f81e996739fb7646882a419484c72d19e05852a7e"
   }
  }
 },
 "nbformat": 4,
 "nbformat_minor": 2
}
